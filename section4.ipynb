{
 "cells": [
  {
   "cell_type": "code",
   "execution_count": 1,
   "metadata": {},
   "outputs": [],
   "source": [
    "import findspark\n",
    "findspark.init()\n",
    "\n",
    "from pyspark.sql import SparkSession\n",
    "\n",
    "spark = SparkSession.builder.appName(\"Movie Dataset MapReduce\").getOrCreate()"
   ]
  },
  {
   "cell_type": "code",
   "execution_count": 2,
   "metadata": {},
   "outputs": [
    {
     "name": "stderr",
     "output_type": "stream",
     "text": [
      "<>:1: SyntaxWarning: invalid escape sequence '\\m'\n",
      "<>:1: SyntaxWarning: invalid escape sequence '\\m'\n",
      "C:\\Users\\wangc\\AppData\\Local\\Temp\\ipykernel_12320\\332470733.py:1: SyntaxWarning: invalid escape sequence '\\m'\n",
      "  file_path = \"TheMoviesDataset\\movies_metadata.csv\"\n"
     ]
    },
    {
     "name": "stdout",
     "output_type": "stream",
     "text": [
      "+-----+---------------------+--------+--------------------+--------------------+-----+---------+-----------------+--------------------+--------------------+----------+--------------------+--------------------+--------------------+--------------------+--------------------+--------------------+--------------------+--------+--------------------+--------------------+--------+--------------------+-----------------+\n",
      "|adult|belongs_to_collection|  budget|              genres|            homepage|   id|  imdb_id|original_language|      original_title|            overview|popularity|         poster_path|production_companies|production_countries|        release_date|             revenue|             runtime|    spoken_languages|  status|             tagline|               title|   video|        vote_average|       vote_count|\n",
      "+-----+---------------------+--------+--------------------+--------------------+-----+---------+-----------------+--------------------+--------------------+----------+--------------------+--------------------+--------------------+--------------------+--------------------+--------------------+--------------------+--------+--------------------+--------------------+--------+--------------------+-----------------+\n",
      "|False| {'id': 10194, 'na...|30000000|[{'id': 16, 'name...|http://toystory.d...|  862|tt0114709|               en|           Toy Story|Led by Woody, And...| 21.946943|/rhIRbceoE9lR4veE...|[{'name': 'Pixar ...|[{'iso_3166_1': '...|          1995-10-30|           373554033|                81.0|[{'iso_639_1': 'e...|Released|                NULL|           Toy Story|   False|                 7.7|             5415|\n",
      "|False|                 NULL|65000000|[{'id': 12, 'name...|                NULL| 8844|tt0113497|               en|             Jumanji|When siblings Jud...| 17.015539|/vzmL6fP7aPKNKPRT...|[{'name': 'TriSta...|[{'iso_3166_1': '...|          1995-12-15|           262797249|               104.0|[{'iso_639_1': 'e...|Released|Roll the dice and...|             Jumanji|   False|                 6.9|             2413|\n",
      "|False| {'id': 119050, 'n...|       0|[{'id': 10749, 'n...|                NULL|15602|tt0113228|               en|    Grumpier Old Men|A family wedding ...|   11.7129|/6ksm1sjKMFLbO7UY...|[{'name': 'Warner...|[{'iso_3166_1': '...|          1995-12-22|                   0|               101.0|[{'iso_639_1': 'e...|Released|Still Yelling. St...|    Grumpier Old Men|   False|                 6.5|               92|\n",
      "|False|                 NULL|16000000|[{'id': 35, 'name...|                NULL|31357|tt0114885|               en|   Waiting to Exhale|\"Cheated on, mist...|    Bernie| Glo and Robin ta...| determined to fi...|            3.859495|/16XOMpEaLWkrcPqS...|[{'name': 'Twenti...|[{'iso_3166_1': '...|          1995-12-22|81452156|               127.0|[{'iso_639_1': 'e...|Released|Friends are the p...|Waiting to Exhale|\n",
      "|False| {'id': 96871, 'na...|       0|[{'id': 35, 'name...|                NULL|11862|tt0113041|               en|Father of the Bri...|Just when George ...|  8.387519|/e64sOI48hQXyru7n...|[{'name': 'Sandol...|[{'iso_3166_1': '...|          1995-02-10|            76578911|               106.0|[{'iso_639_1': 'e...|Released|Just When His Wor...|Father of the Bri...|   False|                 5.7|              173|\n",
      "+-----+---------------------+--------+--------------------+--------------------+-----+---------+-----------------+--------------------+--------------------+----------+--------------------+--------------------+--------------------+--------------------+--------------------+--------------------+--------------------+--------+--------------------+--------------------+--------+--------------------+-----------------+\n",
      "only showing top 5 rows\n",
      "\n"
     ]
    }
   ],
   "source": [
    "file_path = \"TheMoviesDataset\\movies_metadata.csv\"\n",
    "movies_df = spark.read.csv(file_path, header=True, inferSchema=True)\n",
    "\n",
    "movies_df.show(5)"
   ]
  }
 ],
 "metadata": {
  "kernelspec": {
   "display_name": "Python 3",
   "language": "python",
   "name": "python3"
  },
  "language_info": {
   "codemirror_mode": {
    "name": "ipython",
    "version": 3
   },
   "file_extension": ".py",
   "mimetype": "text/x-python",
   "name": "python",
   "nbconvert_exporter": "python",
   "pygments_lexer": "ipython3",
   "version": "3.13.2"
  }
 },
 "nbformat": 4,
 "nbformat_minor": 2
}
