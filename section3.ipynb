{
 "cells": [
  {
   "cell_type": "code",
   "execution_count": 1,
   "metadata": {},
   "outputs": [
    {
     "name": "stdout",
     "output_type": "stream",
     "text": [
      "Headers: ['budget', 'genres', 'id', 'popularity', 'release_date', 'revenue', 'runtime', 'title', 'vote_average', 'vote_count']\n",
      "     budget                                             genres    id  \\\n",
      "0  30000000  [{'id': 16, 'name': 'Animation'}, {'id': 35, '...   862   \n",
      "1  65000000  [{'id': 12, 'name': 'Adventure'}, {'id': 14, '...  8844   \n",
      "\n",
      "  popularity release_date      revenue  runtime      title  vote_average  \\\n",
      "0  21.946943   1995-10-30  373554033.0     81.0  Toy Story           7.7   \n",
      "1  17.015539   1995-12-15  262797249.0    104.0    Jumanji           6.9   \n",
      "\n",
      "   vote_count  \n",
      "0      5415.0  \n",
      "1      2413.0  \n"
     ]
    },
    {
     "name": "stderr",
     "output_type": "stream",
     "text": [
      "C:\\Users\\danie\\AppData\\Local\\Temp\\ipykernel_10968\\3047937051.py:4: DtypeWarning: Columns (10) have mixed types. Specify dtype option on import or set low_memory=False.\n",
      "  metadataDF = pd.read_csv('TheMoviesDataset/movies_metadata.csv', usecols=[\"id\", \"title\", \"budget\", \"genres\", \"popularity\", \"release_date\", \"revenue\", \"runtime\", \"vote_average\", \"vote_count\"])\n"
     ]
    }
   ],
   "source": [
    "import pandas as pd\n",
    "import numpy as np\n",
    "\n",
    "metadataDF = pd.read_csv('TheMoviesDataset/movies_metadata.csv', usecols=[\"id\", \"title\", \"budget\", \"genres\", \"popularity\", \"release_date\", \"revenue\", \"runtime\", \"vote_average\", \"vote_count\"])\n",
    "\n",
    "print(\"Headers: \" + str(list(metadataDF.columns.values)))\n",
    "print(metadataDF.head(2))"
   ]
  },
  {
   "cell_type": "code",
   "execution_count": 2,
   "metadata": {},
   "outputs": [
    {
     "name": "stdout",
     "output_type": "stream",
     "text": [
      "                                    Genre  Count\n",
      "6                                   Drama  20265\n",
      "1                                  Comedy  13182\n",
      "9                                Thriller   7624\n",
      "5                                 Romance   6735\n",
      "7                                  Action   6596\n",
      "10                                 Horror   4673\n",
      "8                                   Crime   4307\n",
      "17                            Documentary   3932\n",
      "3                               Adventure   3496\n",
      "12                        Science Fiction   3049\n",
      "2                                  Family   2770\n",
      "13                                Mystery   2467\n",
      "4                                 Fantasy   2313\n",
      "0                               Animation   1935\n",
      "15                                Foreign   1622\n",
      "16                                  Music   1598\n",
      "11                                History   1398\n",
      "14                                    War   1323\n",
      "18                                Western   1042\n",
      "19                               TV Movie    767\n",
      "20                   Carousel Productions      1\n",
      "21              Vision View Entertainment      1\n",
      "22       Telescene Film Group Productions      1\n",
      "23                                Aniplex      1\n",
      "24                                GoHands      1\n",
      "25                              BROSTA TV      1\n",
      "26  Mardock Scramble Production Committee      1\n",
      "27                       Sentai Filmworks      1\n",
      "28                          Odyssey Media      1\n",
      "29                     Pulser Productions      1\n",
      "30                            Rogue State      1\n",
      "31                             The Cartel      1\n"
     ]
    }
   ],
   "source": [
    "#Count columns\n",
    "import ast\n",
    "from collections import Counter\n",
    "\n",
    "#Copy DF for manipulation\n",
    "df_copy = metadataDF.copy()\n",
    "\n",
    "#Convert the list representations of genres into actual lists.\n",
    "df_copy['genres'] = df_copy['genres'].apply(ast.literal_eval)\n",
    "all_genres = [genre['name'] for sublist in df_copy['genres'] for genre in sublist]\n",
    "genre_counts = Counter(all_genres)\n",
    "\n",
    "genre_counts_df = pd.DataFrame(genre_counts.items(), columns=['Genre', 'Count'])\n",
    "print(genre_counts_df.sort_values(by=['Count'], ascending=False))"
   ]
  },
  {
   "cell_type": "code",
   "execution_count": 3,
   "metadata": {},
   "outputs": [
    {
     "name": "stdout",
     "output_type": "stream",
     "text": [
      "         genre_name  vote_average\n",
      "2         Animation      6.275181\n",
      "10          History      6.154220\n",
      "18              War      6.041119\n",
      "6             Drama      5.905221\n",
      "12            Music      5.879599\n",
      "4             Crime      5.878407\n",
      "5       Documentary      5.823093\n",
      "13          Mystery      5.820470\n",
      "14          Romance      5.802658\n",
      "8           Fantasy      5.787722\n",
      "7            Family      5.753394\n",
      "9           Foreign      5.737978\n",
      "3            Comedy      5.715741\n",
      "1         Adventure      5.686070\n",
      "17         Thriller      5.616713\n",
      "0            Action      5.584167\n",
      "15  Science Fiction      5.342895\n",
      "16         TV Movie      5.236292\n",
      "11           Horror      5.230394\n",
      "19          Western      5.167179\n",
      "\n",
      "\n",
      "         genre_name  popularity\n",
      "1         Adventure    5.998335\n",
      "8           Fantasy    5.363656\n",
      "15  Science Fiction    4.999817\n",
      "0            Action    4.771612\n",
      "7            Family    4.729328\n",
      "2         Animation    4.712107\n",
      "17         Thriller    4.487624\n",
      "4             Crime    4.144681\n",
      "13          Mystery    3.960508\n",
      "11           Horror    3.564005\n",
      "10          History    3.466370\n",
      "18              War    3.332992\n",
      "3            Comedy    3.231555\n",
      "14          Romance    3.121867\n",
      "6             Drama    3.011505\n",
      "19          Western    2.629321\n",
      "12            Music    2.556837\n",
      "16         TV Movie    2.044804\n",
      "5       Documentary    0.948405\n",
      "9           Foreign    0.762823\n"
     ]
    }
   ],
   "source": [
    "#Copy DF for manipulation\n",
    "df_copy = metadataDF.copy()\n",
    "\n",
    "#Convert the list representations of genres into actual lists.\n",
    "df_copy['genres'] = df_copy['genres'].apply(lambda x: ast.literal_eval(x) if pd.notna(x) else [])\n",
    "\n",
    "df_exploded_genres = df_copy.explode('genres')\n",
    "\n",
    "#Extract genre name and drop original genre column\n",
    "df_exploded_genres['genre_name'] = df_exploded_genres['genres'].apply(lambda x: x['name'] if isinstance(x,dict) else None)\n",
    "df_exploded_genres = df_exploded_genres.drop(columns=['genres'])\n",
    "#Drop rows where 'genre_name' is None\n",
    "df_exploded_genres = df_exploded_genres.dropna(subset=['genre_name'])\n",
    "\n",
    "#Ensure vote_average and popularity are numeric\n",
    "df_exploded_genres['vote_average'] = pd.to_numeric(df_exploded_genres['vote_average'], errors='coerce')\n",
    "df_exploded_genres['popularity'] = pd.to_numeric(df_exploded_genres['popularity'], errors='coerce')\n",
    "\n",
    "#Drop rows where 'vote_average' or 'popularity' is NaN\n",
    "df_exploded_genres = df_exploded_genres.dropna(subset=['vote_average', 'popularity'])\n",
    "\n",
    "genre_stats = df_exploded_genres.groupby('genre_name').agg({\n",
    "    'vote_average': 'mean',\n",
    "    'popularity': 'mean'\n",
    "}).reset_index()\n",
    "\n",
    "print(genre_stats[['genre_name', 'vote_average']].sort_values(by=['vote_average'], ascending=False))\n",
    "print(\"\\n\")\n",
    "print(genre_stats[['genre_name', 'popularity']].sort_values(by=['popularity'], ascending=False))"
   ]
  }
 ],
 "metadata": {
  "kernelspec": {
   "display_name": "Python 3",
   "language": "python",
   "name": "python3"
  },
  "language_info": {
   "codemirror_mode": {
    "name": "ipython",
    "version": 3
   },
   "file_extension": ".py",
   "mimetype": "text/x-python",
   "name": "python",
   "nbconvert_exporter": "python",
   "pygments_lexer": "ipython3",
   "version": "3.13.2"
  }
 },
 "nbformat": 4,
 "nbformat_minor": 2
}
