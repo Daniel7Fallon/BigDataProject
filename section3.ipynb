{
 "cells": [
  {
   "cell_type": "code",
   "execution_count": null,
   "metadata": {},
   "outputs": [],
   "source": [
    "import pandas as pd\n",
    "import numpy as np\n",
    "\n",
    "metadataDF = pd.read_csv('TheMoviesDataset/movies_metadata.csv', usecols=[\"id\", \"title\", \"budget\", \"genres\", \"popularity\", \"release_date\", \"revenue\", \"runtime\", \"vote_average\", \"vote_count\"])\n",
    "\n",
    "print(\"Headers: \" + str(list(metadataDF.columns.values)))\n",
    "print(metadataDF.head(10))"
   ]
  },
  {
   "cell_type": "code",
   "execution_count": null,
   "metadata": {},
   "outputs": [],
   "source": [
    "budget_array = metadataDF['budget'].to_numpy()\n",
    "vote_average = metadataDF['vote_average'].to_numpy()"
   ]
  }
 ],
 "metadata": {
  "kernelspec": {
   "display_name": "Python 3",
   "language": "python",
   "name": "python3"
  },
  "language_info": {
   "codemirror_mode": {
    "name": "ipython",
    "version": 3
   },
   "file_extension": ".py",
   "mimetype": "text/x-python",
   "name": "python",
   "nbconvert_exporter": "python",
   "pygments_lexer": "ipython3",
   "version": "3.13.2"
  }
 },
 "nbformat": 4,
 "nbformat_minor": 2
}
