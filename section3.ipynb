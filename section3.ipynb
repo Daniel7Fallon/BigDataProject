{
 "cells": [
  {
   "cell_type": "code",
   "execution_count": 1,
   "metadata": {},
   "outputs": [
    {
     "name": "stdout",
     "output_type": "stream",
     "text": [
      "Headers: ['budget', 'genres', 'id', 'popularity', 'release_date', 'revenue', 'runtime', 'title', 'vote_average', 'vote_count']\n",
      "     budget                                             genres    id  \\\n",
      "0  30000000  [{'id': 16, 'name': 'Animation'}, {'id': 35, '...   862   \n",
      "1  65000000  [{'id': 12, 'name': 'Adventure'}, {'id': 14, '...  8844   \n",
      "\n",
      "   popularity release_date    revenue  runtime      title  vote_average  \\\n",
      "0   21.946943   1995-10-30  373554033     81.0  Toy Story           7.7   \n",
      "1   17.015539   1995-12-15  262797249    104.0    Jumanji           6.9   \n",
      "\n",
      "   vote_count  \n",
      "0        5415  \n",
      "1        2413  \n"
     ]
    }
   ],
   "source": [
    "import pandas as pd\n",
    "import numpy as np\n",
    "\n",
    "metadataDF = pd.read_csv('TheMoviesDataset/movies_metadata.csv', usecols=[\"id\", \"title\", \"budget\", \"genres\", \"popularity\", \"release_date\", \"revenue\", \"runtime\", \"vote_average\", \"vote_count\"])\n",
    "metadataDF['id'] = metadataDF['id'].astype('int64')\n",
    "print(\"Headers: \" + str(list(metadataDF.columns.values)))\n",
    "print(metadataDF.head(2))\n",
    "\n"
   ]
  },
  {
   "cell_type": "code",
   "execution_count": null,
   "metadata": {},
   "outputs": [
    {
     "name": "stdout",
     "output_type": "stream",
     "text": [
      "              Genre  Count\n",
      "6             Drama  20265\n",
      "1            Comedy  13182\n",
      "9          Thriller   7624\n",
      "5           Romance   6735\n",
      "7            Action   6596\n",
      "10           Horror   4673\n",
      "8             Crime   4307\n",
      "17      Documentary   3932\n",
      "3         Adventure   3496\n",
      "12  Science Fiction   3049\n",
      "2            Family   2770\n",
      "13          Mystery   2467\n",
      "4           Fantasy   2313\n",
      "0         Animation   1935\n",
      "15          Foreign   1622\n",
      "16            Music   1598\n",
      "11          History   1398\n",
      "14              War   1323\n",
      "18          Western   1042\n",
      "19         TV Movie    767\n"
     ]
    }
   ],
   "source": [
    "#Count genre occurences\n",
    "import ast\n",
    "from collections import Counter\n",
    "\n",
    "#Copy DF for manipulation\n",
    "df_copy = metadataDF.copy()\n",
    "\n",
    "#Convert the list representations of genres into actual lists.\n",
    "df_copy['genres'] = df_copy['genres'].apply(ast.literal_eval)\n",
    "all_genres = [genre['name'] for sublist in df_copy['genres'] for genre in sublist]\n",
    "genre_counts = Counter(all_genres)\n",
    "genre_counts_df = pd.DataFrame(genre_counts.items(), columns=['Genre', 'Count'])\n",
    "print(genre_counts_df.sort_values(by=['Count'], ascending=False))"
   ]
  },
  {
   "cell_type": "code",
   "execution_count": 21,
   "metadata": {},
   "outputs": [
    {
     "name": "stdout",
     "output_type": "stream",
     "text": [
      "         genre_name  vote_average\n",
      "2         Animation      6.275556\n",
      "10          History      6.154220\n",
      "18              War      6.041119\n",
      "6             Drama      5.905226\n",
      "12            Music      5.879599\n",
      "4             Crime      5.878407\n",
      "5       Documentary      5.823093\n",
      "13          Mystery      5.820470\n",
      "14          Romance      5.802658\n",
      "8           Fantasy      5.787722\n",
      "7            Family      5.753394\n",
      "9           Foreign      5.737978\n",
      "3            Comedy      5.715741\n",
      "1         Adventure      5.686070\n",
      "17         Thriller      5.616763\n",
      "0            Action      5.584036\n",
      "15  Science Fiction      5.343096\n",
      "16         TV Movie      5.235072\n",
      "11           Horror      5.230195\n",
      "19          Western      5.167179\n",
      "\n",
      "\n",
      "         genre_name  popularity\n",
      "1         Adventure    5.998335\n",
      "8           Fantasy    5.363656\n",
      "15  Science Fiction    4.997888\n",
      "0            Action    4.770506\n",
      "7            Family    4.729328\n",
      "2         Animation    4.710670\n",
      "17         Thriller    4.487044\n",
      "4             Crime    4.144681\n",
      "13          Mystery    3.960508\n",
      "11           Horror    3.563710\n",
      "10          History    3.466370\n",
      "18              War    3.332992\n",
      "3            Comedy    3.231555\n",
      "14          Romance    3.121867\n",
      "6             Drama    3.011360\n",
      "19          Western    2.629321\n",
      "12            Music    2.556837\n",
      "16         TV Movie    2.044987\n",
      "5       Documentary    0.948405\n",
      "9           Foreign    0.762823\n"
     ]
    }
   ],
   "source": [
    "#Show mean vote_average and mean popularity per genre\n",
    "#Copy DF for manipulation\n",
    "df_copy = metadataDF.copy()\n",
    "\n",
    "#Convert the list representations of genres into actual lists.\n",
    "df_copy['genres'] = df_copy['genres'].apply(lambda x: ast.literal_eval(x) if pd.notna(x) else [])\n",
    "\n",
    "df_exploded_genres = df_copy.explode('genres')\n",
    "\n",
    "#Extract genre name and drop original genre column\n",
    "df_exploded_genres['genre_name'] = df_exploded_genres['genres'].apply(lambda x: x['name'] if isinstance(x,dict) else None)\n",
    "df_exploded_genres = df_exploded_genres.drop(columns=['genres'])\n",
    "#Drop rows where 'genre_name' is None\n",
    "df_exploded_genres = df_exploded_genres.dropna(subset=['genre_name'])\n",
    "\n",
    "#Ensure vote_average and popularity are numeric\n",
    "df_exploded_genres['vote_average'] = pd.to_numeric(df_exploded_genres['vote_average'], errors='coerce')\n",
    "df_exploded_genres['popularity'] = pd.to_numeric(df_exploded_genres['popularity'], errors='coerce')\n",
    "\n",
    "#Drop rows where 'vote_average' or 'popularity' is NaN\n",
    "df_exploded_genres = df_exploded_genres.dropna(subset=['vote_average', 'popularity'])\n",
    "\n",
    "genre_stats = df_exploded_genres.groupby('genre_name').agg({\n",
    "    'vote_average': 'mean',\n",
    "    'popularity': 'mean'\n",
    "}).reset_index()\n",
    "\n",
    "print(genre_stats[['genre_name', 'vote_average']].sort_values(by=['vote_average'], ascending=False))\n",
    "print(\"\\n\")\n",
    "print(genre_stats[['genre_name', 'popularity']].sort_values(by=['popularity'], ascending=False))"
   ]
  },
  {
   "cell_type": "code",
   "execution_count": 28,
   "metadata": {},
   "outputs": [
    {
     "name": "stdout",
     "output_type": "stream",
     "text": [
      "Headers: ['cast', 'crew', 'id']\n",
      "                                                cast  \\\n",
      "0  [{'cast_id': 14, 'character': 'Woody (voice)',...   \n",
      "1  [{'cast_id': 1, 'character': 'Alan Parrish', '...   \n",
      "\n",
      "                                                crew    id  \n",
      "0  [{'credit_id': '52fe4284c3a36847f8024f49', 'de...   862  \n",
      "1  [{'credit_id': '52fe44bfc3a36847f80a7cd1', 'de...  8844  \n"
     ]
    }
   ],
   "source": [
    "#Create creditsDF dataframe\n",
    "creditsDF = pd.read_csv('TheMoviesDataset/credits.csv')\n",
    "\n",
    "print(\"Headers: \" + str(list(creditsDF.columns.values)))\n",
    "print(creditsDF.head(2))"
   ]
  },
  {
   "cell_type": "code",
   "execution_count": 31,
   "metadata": {},
   "outputs": [
    {
     "name": "stdout",
     "output_type": "stream",
     "text": [
      "                   cast_name  num_films  vote_average\n",
      "76731              Idris Ali          1          10.0\n",
      "52524            Elif Baysal          1          10.0\n",
      "2899            Al Mackenzie          1          10.0\n",
      "34789        Chuck Blackwell          1          10.0\n",
      "147557          Pamela Craig          1          10.0\n",
      "...                      ...        ...           ...\n",
      "113019         Leo Bruckmann          1           0.0\n",
      "12586              Anni Timm          1           0.0\n",
      "181395          Sven Jerring          1           0.0\n",
      "146781       Oscar Tengström          1           0.0\n",
      "24       Rosenda Schaschmidt          1           0.0\n",
      "\n",
      "[202747 rows x 3 columns]\n",
      "\n",
      "\n",
      "                 cast_name  num_films  popularity\n",
      "4726          Alex Dowding          1  547.488298\n",
      "173537       Shaun Newnham          1  294.337037\n",
      "60652   Frank Allen Forbes          1  294.337037\n",
      "57188        Eva Dabrowski          1  294.337037\n",
      "179026         Steve Doyle          1  294.337037\n",
      "...                    ...        ...         ...\n",
      "41055      Danièle Gégauff          1    0.000000\n",
      "156320        Raiku Kemppi          1    0.000000\n",
      "37534         Cornel Coman          1    0.000000\n",
      "198719          Xiying Wen          1    0.000000\n",
      "77704             Ion Lupu          1    0.000000\n",
      "\n",
      "[202747 rows x 3 columns]\n",
      "        cast_name  vote_average  popularity  num_films\n",
      "187907  Tom Hanks         6.625   11.379993         72\n",
      "          cast_name  vote_average  popularity  num_films\n",
      "19954  Bess Flowers      5.539004    2.028024        241\n"
     ]
    }
   ],
   "source": [
    "#Show cast statistics\n",
    "metadata_join_credits_DF = metadataDF.merge(creditsDF, on='id', how='inner')\n",
    "\n",
    "#Copy DF for manipulation\n",
    "df_copy = metadata_join_credits_DF.copy()\n",
    "\n",
    "#Convert the list representations of genres into actual lists.\n",
    "df_copy['cast'] = df_copy['cast'].apply(lambda x: ast.literal_eval(x) if pd.notna(x) else [])\n",
    "\n",
    "df_exploded_cast = df_copy.explode('cast')\n",
    "\n",
    "#Extract cast name and drop original cast column\n",
    "df_exploded_cast['cast_name'] = df_exploded_cast['cast'].apply(lambda x: x['name'] if isinstance(x,dict) else None)\n",
    "df_exploded_cast = df_exploded_cast.drop(columns=['cast'])\n",
    "#Drop rows where 'cast_name' is None\n",
    "df_exploded_cast = df_exploded_cast.dropna(subset=['cast_name'])\n",
    "\n",
    "#Ensure vote_average and popularity are numeric\n",
    "df_exploded_cast['vote_average'] = pd.to_numeric(df_exploded_cast['vote_average'], errors='coerce')\n",
    "df_exploded_cast['popularity'] = pd.to_numeric(df_exploded_cast['popularity'], errors='coerce')\n",
    "\n",
    "#Drop rows where 'vote_average' or 'popularity' is NaN\n",
    "df_exploded_cast = df_exploded_cast.dropna(subset=['vote_average', 'popularity'])\n",
    "\n",
    "cast_stats = df_exploded_cast.groupby('cast_name').agg({\n",
    "    'vote_average': 'mean',\n",
    "    'popularity': 'mean',\n",
    "    'id': 'count' #Count of films they have been in\n",
    "}).reset_index()\n",
    "\n",
    "cast_stats = cast_stats.rename(columns={'id': 'num_films'})\n",
    "print(cast_stats[['cast_name', 'num_films', 'vote_average']].sort_values(by=['vote_average'], ascending=False))\n",
    "print(\"\\n\")\n",
    "print(cast_stats[['cast_name', 'num_films', 'popularity']].sort_values(by=['popularity'], ascending=False))\n",
    "print(cast_stats[cast_stats['cast_name'] == 'Tom Hanks'])\n",
    "print(cast_stats[cast_stats['num_films'] == 241])"
   ]
  },
  {
   "cell_type": "code",
   "execution_count": 32,
   "metadata": {},
   "outputs": [
    {
     "name": "stdout",
     "output_type": "stream",
     "text": [
      "     num_films  vote_average  popularity\n",
      "0            1      5.880034    5.169291\n",
      "1            2      5.873058    5.313597\n",
      "2            3      5.885797    5.195781\n",
      "3            4      5.859514    4.925731\n",
      "4            5      5.843277    4.742350\n",
      "..         ...           ...         ...\n",
      "103        110      6.102273    5.975370\n",
      "104        123      6.211382   11.706544\n",
      "105        125      5.666400    3.092939\n",
      "106        148      5.870270    4.749606\n",
      "107        241      5.539004    2.028024\n",
      "\n",
      "[108 rows x 3 columns]\n"
     ]
    }
   ],
   "source": [
    "#Show correlation between how many movies actors are in and how well those movies are received\n",
    "numFilmsCorrelation = cast_stats.groupby('num_films').agg({\n",
    "    'vote_average': 'mean',\n",
    "    'popularity': 'mean'\n",
    "}).reset_index()\n",
    "\n",
    "print(numFilmsCorrelation)"
   ]
  }
 ],
 "metadata": {
  "kernelspec": {
   "display_name": "Python 3",
   "language": "python",
   "name": "python3"
  },
  "language_info": {
   "codemirror_mode": {
    "name": "ipython",
    "version": 3
   },
   "file_extension": ".py",
   "mimetype": "text/x-python",
   "name": "python",
   "nbconvert_exporter": "python",
   "pygments_lexer": "ipython3",
   "version": "3.13.2"
  }
 },
 "nbformat": 4,
 "nbformat_minor": 2
}
