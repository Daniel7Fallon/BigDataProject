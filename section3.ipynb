{
 "cells": [
  {
   "cell_type": "code",
   "execution_count": 2,
   "metadata": {},
   "outputs": [
    {
     "name": "stdout",
     "output_type": "stream",
     "text": [
      "Headers: ['budget', 'genres', 'id', 'popularity', 'release_date', 'revenue', 'runtime', 'title', 'vote_average', 'vote_count']\n",
      "     budget                                             genres     id  \\\n",
      "0  30000000  [{'id': 16, 'name': 'Animation'}, {'id': 35, '...    862   \n",
      "1  65000000  [{'id': 12, 'name': 'Adventure'}, {'id': 14, '...   8844   \n",
      "2         0  [{'id': 10749, 'name': 'Romance'}, {'id': 35, ...  15602   \n",
      "3  16000000  [{'id': 35, 'name': 'Comedy'}, {'id': 18, 'nam...  31357   \n",
      "4         0                     [{'id': 35, 'name': 'Comedy'}]  11862   \n",
      "5  60000000  [{'id': 28, 'name': 'Action'}, {'id': 80, 'nam...    949   \n",
      "6  58000000  [{'id': 35, 'name': 'Comedy'}, {'id': 10749, '...  11860   \n",
      "7         0  [{'id': 28, 'name': 'Action'}, {'id': 12, 'nam...  45325   \n",
      "8  35000000  [{'id': 28, 'name': 'Action'}, {'id': 12, 'nam...   9091   \n",
      "9  58000000  [{'id': 12, 'name': 'Adventure'}, {'id': 28, '...    710   \n",
      "\n",
      "  popularity release_date      revenue  runtime                        title  \\\n",
      "0  21.946943   1995-10-30  373554033.0     81.0                    Toy Story   \n",
      "1  17.015539   1995-12-15  262797249.0    104.0                      Jumanji   \n",
      "2    11.7129   1995-12-22          0.0    101.0             Grumpier Old Men   \n",
      "3   3.859495   1995-12-22   81452156.0    127.0            Waiting to Exhale   \n",
      "4   8.387519   1995-02-10   76578911.0    106.0  Father of the Bride Part II   \n",
      "5  17.924927   1995-12-15  187436818.0    170.0                         Heat   \n",
      "6   6.677277   1995-12-15          0.0    127.0                      Sabrina   \n",
      "7   2.561161   1995-12-22          0.0     97.0                 Tom and Huck   \n",
      "8    5.23158   1995-12-22   64350171.0    106.0                 Sudden Death   \n",
      "9  14.686036   1995-11-16  352194034.0    130.0                    GoldenEye   \n",
      "\n",
      "   vote_average  vote_count  \n",
      "0           7.7      5415.0  \n",
      "1           6.9      2413.0  \n",
      "2           6.5        92.0  \n",
      "3           6.1        34.0  \n",
      "4           5.7       173.0  \n",
      "5           7.7      1886.0  \n",
      "6           6.2       141.0  \n",
      "7           5.4        45.0  \n",
      "8           5.5       174.0  \n",
      "9           6.6      1194.0  \n"
     ]
    },
    {
     "name": "stderr",
     "output_type": "stream",
     "text": [
      "C:\\Users\\wangc\\AppData\\Local\\Temp\\ipykernel_24376\\3517099635.py:4: DtypeWarning: Columns (10) have mixed types. Specify dtype option on import or set low_memory=False.\n",
      "  metadataDF = pd.read_csv('TheMoviesDataset/movies_metadata.csv', usecols=[\"id\", \"title\", \"budget\", \"genres\", \"popularity\", \"release_date\", \"revenue\", \"runtime\", \"vote_average\", \"vote_count\"])\n"
     ]
    }
   ],
   "source": [
    "import pandas as pd\n",
    "import numpy as np\n",
    "\n",
    "metadataDF = pd.read_csv('TheMoviesDataset/movies_metadata.csv', usecols=[\"id\", \"title\", \"budget\", \"genres\", \"popularity\", \"release_date\", \"revenue\", \"runtime\", \"vote_average\", \"vote_count\"])\n",
    "\n",
    "print(\"Headers: \" + str(list(metadataDF.columns.values)))\n",
    "print(metadataDF.head(10))"
   ]
  },
  {
   "cell_type": "code",
   "execution_count": 3,
   "metadata": {},
   "outputs": [],
   "source": [
    "budget_array = metadataDF['budget'].to_numpy()\n",
    "vote_average = metadataDF['vote_average'].to_numpy()"
   ]
  }
 ],
 "metadata": {
  "kernelspec": {
   "display_name": "Python 3",
   "language": "python",
   "name": "python3"
  },
  "language_info": {
   "codemirror_mode": {
    "name": "ipython",
    "version": 3
   },
   "file_extension": ".py",
   "mimetype": "text/x-python",
   "name": "python",
   "nbconvert_exporter": "python",
   "pygments_lexer": "ipython3",
   "version": "3.13.2"
  }
 },
 "nbformat": 4,
 "nbformat_minor": 2
}
